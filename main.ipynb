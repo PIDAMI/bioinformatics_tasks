{
 "cells": [
  {
   "cell_type": "code",
   "execution_count": 10,
   "metadata": {},
   "outputs": [
    {
     "data": {
      "text/plain": [
       "'%.3f'"
      ]
     },
     "execution_count": 10,
     "metadata": {},
     "output_type": "execute_result"
    }
   ],
   "source": [
    "from profile_alingment import *\n",
    "from pair_alingment_HMM import *\n",
    "from numpy import set_printoptions\n",
    "set_printoptions(precision=2)\n",
    "%precision 3"
   ]
  },
  {
   "cell_type": "markdown",
   "metadata": {},
   "source": [
    "# Task 4 - profile alingment"
   ]
  },
  {
   "cell_type": "code",
   "execution_count": 12,
   "metadata": {},
   "outputs": [
    {
     "name": "stdout",
     "output_type": "stream",
     "text": [
      "Alingment for GTCCA: GTCCA\n",
      "Score: 0.3370078971533515\n",
      "States: ['M1', 'M2', 'I2', 'I2', 'M3']\n",
      "Dynamic prog table:\n",
      "[[0, -inf, -inf], [-inf, -2.3025850929940455, -inf], [-inf, -3.401197381662155, -inf], [-inf, -4.499809670330265, -inf], [-inf, -5.598421958998375, -inf], [-inf, -6.697034247666485, -inf]]\n",
      "[[-inf, -inf, -2.3025850929940455], [0.3746934494414107, -3.401197381662155, -3.401197381662155], [-4.412798293340635, -1.9278916435526348, -4.499809670330265], [-4.125116220888854, -3.0265039322207445, -5.598421958998375], [-5.223728509556964, -4.125116220888854, -6.697034247666485], [-7.708635159344965, -5.223728509556964, -7.795646536334595]]\n",
      "[[-inf, -inf, -3.401197381662155], [-4.31748811353631, -4.499809670330265, -1.2347444629926896], [0.8934872428565781, -3.026503932220745, -3.0265039322207445], [-3.9427946640948996, 0.08255702664024916, -4.125116220888854], [-5.041406952763009, -1.2391988133420704, -5.223728509556964], [-5.446872060871174, -3.2541018338843353, -6.322340798225074]]\n",
      "[[-inf, -inf, -4.787491742782046], [-5.10594547390058, -5.480638923341991, -2.6210388241125804], [-2.939492555231115, -3.3141860046725258, -1.3037373344796415], [0.39271195494408884, -1.9968845150395866, -1.5268808857938512], [-0.34125722013611187, -1.8045126223921306, -2.8486367257761707], [-0.9698658795584861, -2.497659802952076, -4.863539746318436]]\n",
      "Probability of generation:0.5648721617847947\n"
     ]
    }
   ],
   "source": [
    "q = {\"A\": 0.25, \"C\": 0.25, \"G\": 0.25, \"T\": 0.25}\n",
    "eM = [\n",
    "    {\"A\": None, \"C\": None, \"G\": None, \"T\": None},\n",
    "    {\"A\": 1/11, \"C\": 4/11, \"G\": 5/11, \"T\": 1/11},\n",
    "    {\"A\": 2/10, \"C\": 1/10, \"G\": 1/10, \"T\": 6/10},\n",
    "    {\"A\": 6/11, \"C\": 3/11, \"G\": 1/11, \"T\": 1/11},\n",
    "]\n",
    "eI = [\n",
    "    {\"A\": 1/4, \"C\": 1/4, \"G\": 1/4, \"T\": 1/4},\n",
    "    {\"A\": 1/4, \"C\": 1/4, \"G\": 1/4, \"T\": 1/4},\n",
    "    {\"A\": 1/6, \"C\": 2/6, \"G\": 2/6, \"T\": 1/6},\n",
    "    {\"A\": 1/4, \"C\": 1/4, \"G\": 1/4, \"T\": 1/4},\n",
    "]\n",
    "A = [\n",
    "    {\"MM\": 8/10, \"MD\": 1/10, \"MI\": 1/10, \"II\": 1/3, \"ID\":1/3, \"IM\":1/3, \"DD\":None, \"DI\":None,\"DM\":None},\n",
    "    {\"MM\": 7/10, \"MD\": 2/10, \"MI\": 1/10, \"II\": 1/3, \"ID\":1/3, \"IM\":1/3, \"DD\":1/3, \"DI\":1/3,\"DM\":1/3},\n",
    "    {\"MM\": 5/9, \"MD\": 1/9, \"MI\": 3/9, \"II\": 1/5, \"ID\":1/5, \"IM\":3/5, \"DD\":1/4, \"DI\":1/4,\"DM\":2/4},\n",
    "    {\"MM\": 8/9, \"MD\": None, \"MI\": 1/9, \"II\": 1/2, \"ID\":None, \"IM\":1/2, \"DD\":None, \"DI\":1/2,\"DM\":1/2},\n",
    "]\n",
    "\n",
    "seq = 'GTCCA' \n",
    "\n",
    "aligner = ViterbiProfileAligner(trans_matrix=A, gen_insert=eI, gen_match=eM, q=q, seq='-' + seq) # add slack 1st letter to seq\n",
    "aligner.fit()\n",
    "print(f\"Alingment for {seq}: {aligner.alingment}\")\n",
    "print(f\"Score: {aligner.score}\")\n",
    "print(f\"States: {aligner.states}\")\n",
    "print(\"Dynamic prog table:\")\n",
    "for row in aligner.res:\n",
    "    print(row)\n",
    "\n",
    "alinger_forward = ForwardProfileAligner(trans_matrix=A, gen_insert=eI, gen_match=eM, q=q, seq='-' + seq)\n",
    "alinger_forward.fit()\n",
    "print(f\"Probability of generation:{alinger_forward.score}\")"
   ]
  },
  {
   "cell_type": "markdown",
   "metadata": {},
   "source": [
    "# Task 5 - pairwise alingment with HMM"
   ]
  },
  {
   "cell_type": "code",
   "execution_count": 13,
   "metadata": {},
   "outputs": [
    {
     "name": "stdout",
     "output_type": "stream",
     "text": [
      "Alingment of TTAGTC to TAG:\n",
      "TTAGTC\n",
      "T-AG--\n",
      "\n",
      "Dynamic prog table\n",
      "[[1, 0, 0], [0, 0.05, 0], [0, 0.0012500000000000002, 0], [0, 3.125000000000001e-05, 0], [0, 7.812500000000002e-07, 0], [0, 1.9531250000000008e-08, 0], [0, 4.882812500000002e-10, 0]]\n",
      "[[0, 0, 0.05], [0.25, 0.0, 0.0], [0.020000000000000004, 0.0125, 0.0], [0.0003000000000000001, 0.0010000000000000002, 0.0], [3.750000000000001e-06, 2.5000000000000008e-05, 0.0], [3.1250000000000013e-07, 6.250000000000003e-07, 0.0], [7.812500000000004e-10, 1.5625000000000006e-08, 0.0]]\n",
      "[[0, 0, 0.0012500000000000002], [0.012000000000000002, 0.0, 0.0125], [0.0375, 0.0006000000000000002, 0.0010000000000000002], [0.005000000000000001, 0.001875, 1.5000000000000005e-05], [4.000000000000002e-05, 0.00025000000000000006, 1.8750000000000006e-07], [6.000000000000003e-06, 6.250000000000002e-06, 1.5625000000000006e-08], [7.500000000000002e-08, 3.0000000000000015e-07, 3.906250000000002e-11]]\n",
      "[[0, 0, 3.125000000000001e-05], [0.00015000000000000004, 0.0, 0.0006000000000000002], [0.0015000000000000002, 7.500000000000003e-06, 0.001875], [0.0009375, 7.500000000000002e-05, 0.00025000000000000006], [0.0012500000000000002, 4.6875e-05, 2.0000000000000008e-06], [3.0000000000000008e-05, 6.250000000000001e-05, 3.0000000000000015e-07], [1.5000000000000007e-06, 1.5625000000000005e-06, 3.750000000000001e-09]]\n",
      "Probability of geenration:1.3442644531250006e-06\n"
     ]
    }
   ],
   "source": [
    "delta = 0.2\n",
    "tau = 0.1\n",
    "eps = 0.1\n",
    "q = {\"A\": 0.25, \"C\": 0.25, \"G\": 0.25, \"T\": 0.25}\n",
    "p = dict()\n",
    "for l1 in [\"A\", \"C\", \"G\", 'T']:\n",
    "    for l2 in [\"A\", \"C\", \"G\", 'T']:\n",
    "        val = 0\n",
    "        if l1 == l2:\n",
    "            val = 0.5\n",
    "        elif l1 in [\"C\", \"T\"] and l2 in [\"C\", \"T\"]:\n",
    "            val = 0.05\n",
    "        elif l1 in [\"A\", \"G\"] and l2 in [\"A\", \"G\"]:\n",
    "            val = 0.05\n",
    "        elif l1 in [\"A\", \"T\"] and l2 in [\"A\", \"T\"]:\n",
    "            val = 0.3\n",
    "        elif l1 in [\"G\", \"C\"] and l2 in [\"G\", \"C\"]:\n",
    "            val = 0.3\n",
    "        elif l1 in [\"G\", \"T\"] and l2 in [\"G\", \"T\"]: \n",
    "            val = 0.15\n",
    "        elif l1 in [\"A\", \"C\"] and l2 in [\"A\", \"C\"]:\n",
    "            val = 0.15              \n",
    "        \n",
    "        p[f\"{l1}{l2}\"] = val\n",
    "\n",
    "\n",
    "seq1 = \"TTAGTC\"\n",
    "seq2 = \"TAG\"\n",
    "\n",
    "pw_alinger = ViterbiPairwiseAligner(p=p,q=q,delta=delta, tau=tau, eps=eps,s1='-' + seq1,s2='-' + seq2)\n",
    "pw_alinger.fit()\n",
    "print(f\"Alingment of {seq1} to {seq2}:\")\n",
    "print(pw_alinger.alingment[0])\n",
    "print(pw_alinger.alingment[1])\n",
    "print(\"\\nDynamic prog table\")\n",
    "for row in pw_alinger.res:\n",
    "    print(row)\n",
    "\n",
    "pw_alinger_forward = ForwardPairwiseAligner(p=p,q=q,delta=delta, tau=tau, eps=eps,s1='-' + seq1,s2='-' + seq2)\n",
    "pw_alinger_forward.fit()\n",
    "prob = pw_alinger_forward.score\n",
    "print(f\"Probability of generation:{prob}\")"
   ]
  }
 ],
 "metadata": {
  "kernelspec": {
   "display_name": "Python 3.9.15 ('env': venv)",
   "language": "python",
   "name": "python3"
  },
  "language_info": {
   "codemirror_mode": {
    "name": "ipython",
    "version": 3
   },
   "file_extension": ".py",
   "mimetype": "text/x-python",
   "name": "python",
   "nbconvert_exporter": "python",
   "pygments_lexer": "ipython3",
   "version": "3.9.15"
  },
  "orig_nbformat": 4,
  "vscode": {
   "interpreter": {
    "hash": "69b8b92266a261116669c1d2bf027c179b310ecb474d21c6ae9d955d942e8af3"
   }
  }
 },
 "nbformat": 4,
 "nbformat_minor": 2
}
